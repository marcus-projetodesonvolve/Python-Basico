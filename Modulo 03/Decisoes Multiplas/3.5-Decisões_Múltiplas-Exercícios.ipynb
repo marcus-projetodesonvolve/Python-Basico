{
 "cells": [
  {
   "cell_type": "markdown",
   "id": "559687a1",
   "metadata": {},
   "source": [
    "# Módulo 3 - Condicionais\n",
    "\n",
    "## 3.5 - Decisões Múltiplas"
   ]
  },
  {
   "cell_type": "markdown",
   "id": "42f823b3",
   "metadata": {},
   "source": [
    "### Q1.\n",
    "\n",
    "Vamos fazer uma calculadora! Escreva um programa que solicita 3 entradas: o primeiro operando (float), o operador (caracter) e o segundo operando (float). Seu programa deve imprimir o resultado da operação solicitada, entre soma (+), subtração (-), divisão (/), multiplicação (\\*) ou potência (\\*\\*). Seu programa também deve imprimir uma mensagem de erro se a operação solicitada não estiver dentre as opções disponíveis.\n",
    "\n",
    "Seguem alguns exemplos de interação com seu código no terminal. \n",
    "\n",
    "\n",
    "```\n",
    "Digite o primeiro operando: 5.2\n",
    "Digite o operador (+, -, /, *, **): *\n",
    "Digite o segundo operando` 3\n",
    "Resultado: 5.2 * 3.0 = 15.6\n",
    "```\n",
    "\n",
    "```\n",
    "Digite o primeiro operando: 8\n",
    "Digite o operador (+, -, /, *, **): **\n",
    "Digite o segundo operando: 2\n",
    "Resultado: 8.0 * 2.0 = 64.0\n",
    "```\n",
    "\n",
    "```\n",
    "Digite o primeiro operando: 7\n",
    "Digite o operador (+, -, /, *, **): %\n",
    "Digite o segundo operando: 3.4\n",
    "Erro! Operação inválida. \n",
    "```\n",
    "\n",
    "```\n",
    "Digite o primeiro operando: 10\n",
    "Digite o operador (+, -, /, *, **): /\n",
    "Digite o segundo operando: 2.5\n",
    "Resultado: 10.0 / 2.5 = 4.0\n",
    "```\n",
    "\n"
   ]
  },
  {
   "cell_type": "code",
   "execution_count": 36,
   "id": "c5b8cd4d",
   "metadata": {},
   "outputs": [
    {
     "name": "stdin",
     "output_type": "stream",
     "text": [
      "Digite o primeiro número:  1\n",
      "Digite o operador (+, -, *, /):  2\n",
      "Digite o segundo número:  1\n"
     ]
    },
    {
     "name": "stdout",
     "output_type": "stream",
     "text": [
      "Operador Invalido\n",
      "1.0 2 1.0 Resultado:  0\n"
     ]
    }
   ],
   "source": [
    "## Escreva e execute seu código aqui\n",
    "n1 = float(input(\"Digite o primeiro número: \"))\n",
    "operador = input(\"Digite o operador (+, -, *, /): \")\n",
    "n2 = float(input(\"Digite o segundo número: \"))\n",
    "resultado = 0\n",
    "if operador == \"+\":\n",
    "    resultado = n1 + n2\n",
    "elif operador == \"-\":\n",
    "    resultado = n1 - n2\n",
    "elif operador == \"*\":\n",
    "    resultado = n1 * n2\n",
    "elif operador == \"/\":\n",
    "    resultado = n1 / n2\n",
    "else:\n",
    "    print(\"Operador Invalido\")\n",
    "\n",
    "print(f\"{n1} {operador} {n2} Resultado: \", resultado)\n"
   ]
  },
  {
   "cell_type": "markdown",
   "id": "d135df39",
   "metadata": {},
   "source": [
    "### Q2.\n",
    "\n",
    "Escreva um programa que leia os comprimentos dos 3 lados de um triângulo e diga se o triângulo é equilátero, isóceles ou escaleno. Regras:\n",
    "- Isóceles: Quaisquer dois lados com o mesmo comprimento\n",
    "- Equilátero: Os três lados tem o mesmo comprimento\n",
    "- Escaleno: Três lados de comprimento diferente \n",
    "\n",
    "Note que a ordem das condições importa! Seguem alguns exemplos de interação com seu código no terminal. \n",
    "\n",
    "```\n",
    "Digite o comprimento do lado 1: 4\n",
    "Digite o comprimento do lado 2: 4\n",
    "Digite o comprimento do lado 3: 6\n",
    "Triângulo: Isóceles\n",
    "```\n",
    "\n",
    "```\n",
    "Digite o comprimento do lado 1: 5\n",
    "Digite o comprimento do lado 2: 5\n",
    "Digite o comprimento do lado 3: 5\n",
    "Triângulo: Equilátero\n",
    "```\n",
    "\n",
    "```\n",
    "Digite o comprimento do lado 1: 7\n",
    "Digite o comprimento do lado 2: 4\n",
    "Digite o comprimento do lado 3: 9\n",
    "Triângulo: Escaleno\n",
    "```\n",
    "\n"
   ]
  },
  {
   "cell_type": "code",
   "execution_count": 14,
   "id": "cfcf9a80",
   "metadata": {},
   "outputs": [
    {
     "name": "stdin",
     "output_type": "stream",
     "text": [
      "Digite o valor do primeiro lado:  1\n",
      "Digite o valor do segundo lado:  2\n",
      "Digite o valor do terceiro lado:  3\n"
     ]
    },
    {
     "name": "stdout",
     "output_type": "stream",
     "text": [
      "Esse é um triangulo Escaleno\n"
     ]
    }
   ],
   "source": [
    "l1 = int(input(\"Digite o valor do primeiro lado: \"))\n",
    "l2 = int(input(\"Digite o valor do segundo lado: \"))\n",
    "l3 = int(input(\"Digite o valor do terceiro lado: \"))\n",
    "\n",
    "if l1 == l2 == l3 :\n",
    "    print(\"Esse é um triangulo Equilatero\")\n",
    "elif l1 == l2 or l1 == l3 or l2 == l3:\n",
    "    print(\"Esse é um triangulo Isoceles\")\n",
    "else:\n",
    "    print(\"Esse é um triangulo Escaleno\")\n",
    "\n"
   ]
  },
  {
   "cell_type": "markdown",
   "id": "ed3405fb",
   "metadata": {},
   "source": [
    "### Q3.\n",
    "\n",
    "Você está desenvolvendo um sistema de avaliação de desempenho para um jogo. Escreva um programa em Python que avalia a pontuação do jogador em uma missão e atribui uma classificação com base nas seguintes condições:\n",
    "\n",
    "- Se a pontuação for menor que 70, atribua a classificação \"Insatisfatório\".\n",
    "- Se a pontuação for maior ou igual a 70, atribua a classificação \"Regular\".\n",
    "- Se a pontuação for maior ou igual a 80, atribua a classificação \"Bom\".\n",
    "- Se a pontuação for maior ou igual a 90, atribua a classificação \"Excelente\".\n",
    "\n",
    "Escreva um programa que solicita ao usuário a pontuação e imprime a classificação correspondente."
   ]
  },
  {
   "cell_type": "code",
   "execution_count": 23,
   "id": "a7a842ae",
   "metadata": {},
   "outputs": [
    {
     "name": "stdin",
     "output_type": "stream",
     "text": [
      "Qual a sua Pontuação:  69\n"
     ]
    },
    {
     "name": "stdout",
     "output_type": "stream",
     "text": [
      "Resultado Insatisfatorio\n"
     ]
    }
   ],
   "source": [
    "pontos = int(input(\"Qual a sua Pontuação: \"))\n",
    "if pontos <70 :\n",
    "    print(\"Resultado Insatisfatorio\")\n",
    "elif pontos >= 90:\n",
    "    print(\"Resultado Excelente\")\n",
    "elif pontos >= 80:\n",
    "    print(\"Resultado Bom\")\n",
    "else:\n",
    "    print(\"Resultado Regular\")\n",
    "    \n"
   ]
  },
  {
   "cell_type": "markdown",
   "id": "6cafaa50",
   "metadata": {},
   "source": [
    "### Q4.\n",
    "\n",
    "Você está implementando um sistema de desconto em uma loja online. Escreva um programa em Python que calcula o desconto com base no valor total da compra e atribui diferentes níveis de desconto de acordo com as seguintes condições:\n",
    "\n",
    "- Se o valor total da compra for menor que R\\$ 50, não há desconto.\n",
    "- Se o valor total da compra for maior ou igual a R\\$ 50, atribua um desconto de 10%.\n",
    "- Se o valor total da compra for maior ou igual a R\\$ 100, atribua um desconto de 20%.\n",
    "\n",
    "\n",
    "Seguem alguns exemplos de interação com seu código no terminal. Preste atenção na formatação esperada para as saídas.\n",
    "\n",
    "```\n",
    "Digite o valor total da compra: 120\n",
    "Desconto aplicado: 20.0%\n",
    "Valor final com desconto: R$96.00\n",
    "```\n",
    "\n",
    "```\n",
    "Digite o valor total da compra: 65\n",
    "Desconto aplicado: 10.0%\n",
    "Valor final com desconto: R$58.50\n",
    "```\n",
    "\n",
    "```\n",
    "Digite o valor total da compra: 40\n",
    "Desconto aplicado: 0.0%\n",
    "Valor final com desconto: R$40.00\n",
    "```\n",
    "\n",
    "\n"
   ]
  },
  {
   "cell_type": "code",
   "execution_count": 28,
   "id": "3b1b1929",
   "metadata": {},
   "outputs": [
    {
     "name": "stdin",
     "output_type": "stream",
     "text": [
      "Informe o valor da Compra: R$  102\n"
     ]
    },
    {
     "name": "stdout",
     "output_type": "stream",
     "text": [
      "Desconto 20%\n",
      "O Valor da compra com desconto é: R$ 81.6\n"
     ]
    }
   ],
   "source": [
    "valor_compra = float(input(\"Informe o valor da Compra: R$ \"))\n",
    "if valor_compra < 50:\n",
    "    desconto = 0\n",
    "    print(\"Sem desconto!\")\n",
    "elif valor_compra <100:\n",
    "    print(\"Desconto 10%\")\n",
    "    desconto = 0.10\n",
    "else:\n",
    "    desconto = 0.20\n",
    "    print(\"Desconto 20%\")\n",
    "\n",
    "valor_final = valor_compra - (valor_compra * desconto)\n",
    "print(\"O Valor da compra com desconto é: R$\",valor_final)\n"
   ]
  },
  {
   "cell_type": "markdown",
   "id": "dc5db6d7",
   "metadata": {},
   "source": [
    "### Q5.\n",
    "\n",
    "Crie um sistema de autenticação em Python. O sistema deve funcionar da\n",
    "seguinte maneira:\n",
    "\n",
    "1. Um banco de dados fictício deve ser implementado como um dicionário,\n",
    "onde a chave é o nome do usuário e o valor é uma tupla contendo a senha e\n",
    "o nível de acesso do usuário.\n",
    "\n",
    "2. O programa deve solicitar ao usuário que insira seu usuário e senha.\n",
    "\n",
    "3. O sistema deve:\n",
    "* Verificar se o login existe no banco de dados.\n",
    "* Comparar a senha fornecida com a armazenada no banco.\n",
    "* Caso as credenciais sejam válidas, exibir uma mensagem de sucesso e o nível de acesso do usuário.\n",
    "* Caso seja inválido deverá retornar mensagem: “Erro: Usuário ou\n",
    "senha inválidos.”\n",
    "* O programa deve rodar em um laço para permitir múltiplas\n",
    "tentativas de login, mas também permitir que o usuário opte por sair\n",
    "do programa.\n",
    "\n",
    "Atributos dos 3 usuários cadastrados no sistema (usuário, senha e nível)\n",
    "\n",
    "1) admin – admin123 – Administrador\n",
    "2) usuario1 – senha123 – Usuário Comum\n",
    "3) visitante1 – guest2024 – Visitante"
   ]
  },
  {
   "cell_type": "code",
   "execution_count": 55,
   "id": "b90304eb",
   "metadata": {},
   "outputs": [
    {
     "name": "stdout",
     "output_type": "stream",
     "text": [
      "Bem Vindo! Digite seu usuario e senha, ou digite sair para encerrar!\n"
     ]
    },
    {
     "name": "stdin",
     "output_type": "stream",
     "text": [
      "Digite Seu Usuario:  admin\n",
      "Digite Sua Senha:  admin123\n"
     ]
    },
    {
     "name": "stdout",
     "output_type": "stream",
     "text": [
      "Login realizado com sucesso! Nivel de acesso: Administrador\n"
     ]
    }
   ],
   "source": [
    "print (\"Bem Vindo! Digite seu usuario e senha, ou digite sair para encerrar!\")\n",
    "usuario = input(\"Digite Seu Usuario: \")\n",
    "senha = input(\"Digite Sua Senha: \")\n",
    "if  usuario == \"sair\":\n",
    "    print(\"FIM!\")\n",
    "elif usuario == \"admin\" and senha == \"admin123\":\n",
    "    print(\"Login realizado com sucesso! Nivel de acesso: Administrador\")\n",
    "elif usuario == \"usuario1\" and senha == \"senha123\":\n",
    "    print(\"Login realizado com sucesso! Nivel de acesso: Usuario Comum\")\n",
    "elif usuario == \"visitante1\" and senha == \"guest2024\":\n",
    "    print(\"Login realizado com sucesso! Nivel de acesso: Visitante\")\n",
    "\n",
    "else:\n",
    "    print(\"Usuario ou senha incorretos! Tente novamente!\")"
   ]
  },
  {
   "cell_type": "code",
   "execution_count": null,
   "id": "8e67586d-cd7c-4811-8095-482c0eba0f26",
   "metadata": {},
   "outputs": [],
   "source": []
  }
 ],
 "metadata": {
  "kernelspec": {
   "display_name": "Python 3 (ipykernel)",
   "language": "python",
   "name": "python3"
  },
  "language_info": {
   "codemirror_mode": {
    "name": "ipython",
    "version": 3
   },
   "file_extension": ".py",
   "mimetype": "text/x-python",
   "name": "python",
   "nbconvert_exporter": "python",
   "pygments_lexer": "ipython3",
   "version": "3.13.2"
  }
 },
 "nbformat": 4,
 "nbformat_minor": 5
}
