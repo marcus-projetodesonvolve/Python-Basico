{
  "cells": [
    {
      "cell_type": "markdown",
      "metadata": {
        "id": "1pCTdOHonv5f"
      },
      "source": [
        "# Módulo 2\n",
        "\n",
        "## 2.3 Instruções e Expressões\n",
        "\n",
        "### Q1\n",
        "\n",
        "Faça um programa que armazene o valor de 20 reais de salário por hora de um trabalhador, e o número de 40 horas trabalhadas na semana. Com essas informações, calcule e imprima:\n",
        "- Salário semanal bruto\n",
        "- Valor descontado por semana INSS (10% do bruto)\n",
        "- Valor descontado por semana pelo sindicato (5% do bruto)\n",
        "- Salário semanal líquido (Bruto - Descontos)"
      ]
    },
    {
      "cell_type": "code",
      "execution_count": null,
      "metadata": {
        "id": "hVbX0I97nj6M"
      },
      "outputs": [],
      "source": [
        "s_h = 20  # Salário por hora\n",
        "n_h = 40  # Número de horas trabalhadas na semana\n",
        "s_b = s_h * n_h  # Salário semanal bruto\n",
        "print(\"Salário semanal bruto:R$\", (s_b))\n",
        "desconto_inss = s_b * 0.10  # Desconto do INSS (10% do bruto)\n",
        "print(\"Valor descontado por semana INSS: R$\", (desconto_inss));\n",
        "desconto_sindicato = s_b * 0.05  # Desconto do sindicato (5% do bruto) \n",
        "print(\"Valor descontado por semana pelo sindicato: R$\", (desconto_sindicato));\n",
        "s_l = s_b - desconto_inss - desconto_sindicato  # Salário semanal líquido (Bruto - Descontos)\n",
        "print(\"Salário semanal líquido: R$\", (s_l))"
      ]
    },
    {
      "cell_type": "markdown",
      "metadata": {
        "id": "pIxKX9J2oGZ1"
      },
      "source": [
        "### Q2\n",
        "\n",
        "Altere o programa anterior para a partir dos valores de horas trabalhadas por semana e salário por hora, calcular **em somente duas instruções**:\n",
        "- Salário semanal bruto\n",
        "- Salário semanal líquido com todos os descontos. Para a segunda instrução, realize todos os cálculos aritméticos em uma expressão composta.\n"
      ]
    },
    {
      "cell_type": "code",
      "execution_count": null,
      "metadata": {
        "id": "pAHw9Xf9oGoi"
      },
      "outputs": [],
      "source": [
        "s_b = 20 * 40  # Salário semanal bruto\n",
        "print(\"Salário semanal bruto:R$\", (s_b))\n",
        "s_l = s_b - (s_b * 0.10) - (s_b * 0.05)  # Salário semanal líquido (Bruto - Descontos)\n",
        "print(\"Salário semanal líquido: R$\", (s_l))"
      ]
    },
    {
      "cell_type": "markdown",
      "metadata": {
        "id": "m8tlHRuWpBOB"
      },
      "source": [
        "### Q3\n",
        "\n",
        "Você está desenvolvendo um software de conversão de moeda e precisa calcular o valor equivalente em yuan chinês a partir de uma quantia em real. A taxa de câmbio é de 0.69 BRL (real) para 1 CNY (yuan). Escreva um programa que define em uma variável uma quantia em reais (BRL) e calcula o valor equivalente em yuan (CNY). Imprima o resultado."
      ]
    },
    {
      "cell_type": "code",
      "execution_count": null,
      "metadata": {
        "id": "2bPw7uF6oeL9"
      },
      "outputs": [],
      "source": [
        "# Definindo a taxa de câmbio\n",
        "valor_br = 0.69  # 1 CNY = 0.69 BRL\n",
        "quantia_br = 500  # Exemplo\n",
        "convertido = quantia_br / valor_br  # Convertendo de BRL para CNY\n",
        "print(\"Valor em CNY:\", (convertido))"
      ]
    },
    {
      "cell_type": "markdown",
      "metadata": {
        "id": "-Na3ltDCp74A"
      },
      "source": [
        "### Q4\n",
        "\n",
        "Você é um treinador de corrida e deseja calcular a velocidade média que um atleta precisa manter para completar a Maratona Internacional de São Silvestre, que tem uma distância total de 42.195 km. A fórmula para calcular a velocidade média ($v\\_media$) é dada por $v\\_media = \\frac{distancia}{tempo}$ . Escreva um programa em Python para calcular a velocidade média necessária para completar a maratona em 3 horas.\n",
        "\n",
        "**Calcule e imprima o resultado em metros/segundo**, ou seja, converta a distância de quilômetros para metros ($metro = \\frac{km}{1000}$) e a velocidade de horas para segundos $(segundo = \\frac{hora}{3600})$."
      ]
    },
    {
      "cell_type": "code",
      "execution_count": null,
      "metadata": {
        "id": "Bn6l8kcSrE4L"
      },
      "outputs": [],
      "source": [
        "distancia = 42.195\n",
        "tempo = 3\n",
        "\n",
        "v_media = distancia / tempo\n",
        "print(\"A velocidade média necessária para completar a maratona é:\", v_media, \"km/h\")\n",
        "\n",
        "#calcular o resultado em metros/segundo\n",
        "\n",
        "distancia_metros = distancia / 1000  # Convertendo km para metros\n",
        "tempo_segundos = tempo / 3600  # Convertendo horas para segundos\n",
        "v_media_metros_segundo = distancia_metros / tempo_segundos  # Calculando a velocidade média em m/s\n",
        "print(\"A velocidade média necessária para completar a maratona é:\", v_media_metros_segundo, \"m/s\")"
      ]
    }
  ],
  "metadata": {
    "colab": {
      "provenance": []
    },
    "kernelspec": {
      "display_name": "Python 3",
      "name": "python3"
    },
    "language_info": {
      "name": "python"
    }
  },
  "nbformat": 4,
  "nbformat_minor": 0
}
