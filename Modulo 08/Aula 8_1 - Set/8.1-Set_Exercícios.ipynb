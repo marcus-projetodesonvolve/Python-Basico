{
 "cells": [
  {
   "cell_type": "markdown",
   "id": "0d5035b5",
   "metadata": {},
   "source": [
    "# Set\n",
    "\n",
    "## Aula 8.1"
   ]
  },
  {
   "cell_type": "markdown",
   "id": "0bdece85",
   "metadata": {},
   "source": [
    "### Q1. \n",
    "\n",
    "Dada uma string qualquer, use seu conhecimento de sets para apresentar os caracteres únicos que aparecem na string, ordenados alfabeticamente e sem duplicatas. Preste atenção em duplicatas de maiúsculas e minúsculas.\n"
   ]
  },
  {
   "cell_type": "code",
   "execution_count": null,
   "id": "0a258eba",
   "metadata": {},
   "outputs": [],
   "source": [
    "frase = \"O rato roeu a roupa do Robson\"\n",
    "\n",
    "def caracteres_unicos(string):\n",
    "    # Converte todos os caracteres para minúsculo\n",
    "    string = string.lower()\n",
    "    \n",
    "    # Cria um set com os caracteres únicos\n",
    "    unicos = set(string)\n",
    "    \n",
    "    # Remove espaços em branco, se necessário\n",
    "    unicos.discard(' ')\n",
    "    \n",
    "    # Ordena os caracteres\n",
    "    ordenados = sorted(unicos)\n",
    "    \n",
    "    return ordenados\n",
    "\n",
    "# Exemplo de uso\n",
    "entrada = \"O rato roeu a roupa do Robson\"\n",
    "resultado = caracteres_unicos(entrada)\n",
    "print(resultado)\n"
   ]
  },
  {
   "cell_type": "markdown",
   "id": "0856bd56",
   "metadata": {},
   "source": [
    "### Q2\n",
    "\n",
    "Desenvolva uma função em Python chamada ```tem_elementos_comuns()``` que recebe duas listas como parâmetros e retorna True se houver algum elemento comum entre as duas listas, e False caso contrário. Utilize sets para resolver essa tarefa."
   ]
  },
  {
   "cell_type": "code",
   "execution_count": null,
   "id": "f7ab6736",
   "metadata": {},
   "outputs": [],
   "source": [
    "# Implemente aqui a função tem_elementos_comuns()\n",
    "def tem_elementos_comuns(lista1, lista2):\n",
    "    # Converte as listas em sets\n",
    "    set1 = set(lista1)\n",
    "    set2 = set(lista2)\n",
    "    \n",
    "    # Verifica se há interseção entre os dois sets\n",
    "    return bool(set1 & set2)\n",
    "\n",
    "# Exemplos de uso\n",
    "print(tem_elementos_comuns([1, 2, 3], [3, 4, 5, 6, 7]))\n"
   ]
  },
  {
   "cell_type": "code",
   "execution_count": null,
   "id": "1022744a",
   "metadata": {},
   "outputs": [],
   "source": [
    "# Execute esta célula para testar a função da Q2.\n",
    "\n",
    "lista1 = [1, 2, 3, 4]\n",
    "lista2 = [3, 4, 5, 6, 7]\n",
    "resultado = tem_elementos_comuns(lista1, lista2)\n",
    "print(resultado)  # Saída esperada: True"
   ]
  },
  {
   "cell_type": "markdown",
   "id": "649a5082",
   "metadata": {},
   "source": [
    "### Q3. \n",
    "\n",
    "Você vai coletar de diferentes turmas de alunos seus interesses em atividades extra curriculares dentre futebol, vôlei, rugby, música, teatro, ações comunitárias. Informe o conjunto de atividades comuns a todas a turmas. Pode preencher o iterável turmas com valores arbitrários. \n"
   ]
  },
  {
   "cell_type": "code",
   "execution_count": null,
   "id": "880a9927",
   "metadata": {},
   "outputs": [],
   "source": [
    "turmas = [\n",
    "     {'ações comunitárias', 'futebol', 'música', 'rugby'},\n",
    "     {'ações comunitárias', 'música', 'rugby', 'teatro'},\n",
    "     {'música', 'rugby', 'teatro', 'vôlei'},\n",
    "     {'música', 'vôlei', 'rugby'},\n",
    "     {'ações comunitárias', 'futebol', 'rugby', 'teatro', 'vôlei'},\n",
    "     {'ações comunitárias', 'futebol', 'rugby'},\n",
    "     {'ações comunitárias', 'rugby', 'teatro', 'vôlei'},\n",
    "     {'ações comunitárias', 'rugby', 'teatro', 'vôlei'},\n",
    "     {'ações comunitárias', 'rugby', 'vôlei'}\n",
    "]\n",
    "\n",
    "\n",
    "def atividades_comuns(turmas):\n",
    "    # Converte cada lista de atividades em um set\n",
    "    conjuntos = [set(atividades) for atividades in turmas]\n",
    "    \n",
    "    # Realiza a interseção de todos os sets\n",
    "    comuns = set.intersection(*conjuntos)\n",
    "    \n",
    "    return comuns\n",
    "\n",
    "# Exemplo de dados arbitrários\n",
    "turmas = [\n",
    "    ['futebol', 'vôlei', 'música', 'ações comunitárias'],\n",
    "    ['música', 'teatro', 'ações comunitárias', 'futebol'],\n",
    "    ['futebol', 'música', 'ações comunitárias', 'rugby']\n",
    "]\n",
    "\n",
    "# Resultado\n",
    "print(atividades_comuns(turmas))\n",
    "\n"
   ]
  },
  {
   "cell_type": "markdown",
   "id": "021e2b1e",
   "metadata": {},
   "source": [
    "### Q4. \n",
    "Considere duas listas que são duplicatas uma da outra, exceto por um elemento, exemplo:\n",
    "```\n",
    "A = [1, 4, 5, 7, 9]\n",
    "B = [4, 5, 7, 9]\n",
    "```\n",
    "\n",
    "Encontre e apresente o elemento diferente, informando também qual das listas está desfalcada. Para o exemplo acima, a saída esperada é\n",
    "```\n",
    "O elemento 1 está faltando na segunda lista\n",
    "```"
   ]
  },
  {
   "cell_type": "code",
   "execution_count": null,
   "id": "608761a4",
   "metadata": {},
   "outputs": [],
   "source": [
    "## Implemente aqui sua solução\n",
    "\n",
    "def encontrar_diferenca(lista1, lista2):\n",
    "    set1 = set(lista1)\n",
    "    set2 = set(lista2)\n",
    "    \n",
    "    if len(lista1) > len(lista2):\n",
    "        diferenca = set1 - set2\n",
    "        origem = \"segunda\"\n",
    "    else:\n",
    "        diferenca = set2 - set1\n",
    "        origem = \"primeira\"\n",
    "    \n",
    "    if diferenca:\n",
    "        elemento = diferenca.pop()\n",
    "        print(f\"O elemento {elemento} está faltando na {origem} lista\")\n",
    "    else:\n",
    "        print(\"As listas são idênticas\")\n",
    "\n",
    "# Exemplo de uso\n",
    "A = [1, 4, 5, 7, 9]\n",
    "B = [4, 5, 7, 9]\n",
    "encontrar_diferenca(A, B)"
   ]
  },
  {
   "cell_type": "markdown",
   "id": "ddf180c1",
   "metadata": {},
   "source": [
    "### Q5.\n",
    "\n",
    "Panagramas são frases que contém todas as letras do alfabeto pelo menos uma vez. Crie uma função ```checa_panagrama``` que recebe uma string e retorna ```True``` caso seja um panagrama ou ```False```caso contrário. Use seu conhecimento de sets para solucionar essa questão.\n",
    "\n",
    "Ex: \n",
    "```\n",
    "Entrada: \"The quick brown fox jumps over the lazy dog\" \n",
    "Saída: É um panagrama\n",
    "```\n",
    "\n",
    "```\n",
    "Entrada: \"Python é uma linguagem de programação\" \n",
    "Saída: Não é um panagrama\n",
    "```"
   ]
  },
  {
   "cell_type": "code",
   "execution_count": null,
   "id": "4e8b0390",
   "metadata": {},
   "outputs": [],
   "source": [
    "## Implemente aqui sua solução\n",
    "\n",
    "import string\n",
    "\n",
    "def checa_panagrama(frase):\n",
    "    # Conjunto com todas as letras do alfabeto em minúsculo\n",
    "    alfabeto = set(string.ascii_lowercase)\n",
    "    \n",
    "    # Conjunto com os caracteres da frase, convertidos para minúsculo\n",
    "    caracteres_frase = set(frase.lower())\n",
    "    \n",
    "    # Verifica se todas as letras do alfabeto estão na frase\n",
    "    return alfabeto.issubset(caracteres_frase)\n",
    "\n",
    "# Exemplos de uso\n",
    "entrada1 = \"The quick brown fox jumps over the lazy dog\"\n",
    "entrada2 = \"Python é uma linguagem de programação\"\n",
    "\n",
    "if checa_panagrama(entrada1):\n",
    "    print(\"É um panagrama\")\n",
    "else:\n",
    "    print(\"Não é um panagrama\")\n",
    "\n",
    "if checa_panagrama(entrada2):\n",
    "    print(\"É um panagrama\")\n",
    "else:\n",
    "    print(\"Não é um panagrama\")"
   ]
  }
 ],
 "metadata": {
  "kernelspec": {
   "display_name": "Python 3 (ipykernel)",
   "language": "python",
   "name": "python3"
  },
  "language_info": {
   "codemirror_mode": {
    "name": "ipython",
    "version": 3
   },
   "file_extension": ".py",
   "mimetype": "text/x-python",
   "name": "python",
   "nbconvert_exporter": "python",
   "pygments_lexer": "ipython3",
   "version": "3.13.2"
  }
 },
 "nbformat": 4,
 "nbformat_minor": 5
}
