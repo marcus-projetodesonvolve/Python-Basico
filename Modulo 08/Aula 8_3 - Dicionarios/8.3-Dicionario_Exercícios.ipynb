{
 "cells": [
  {
   "cell_type": "markdown",
   "id": "0d5035b5",
   "metadata": {},
   "source": [
    "# Dicionários\n",
    "\n",
    "## Aula 8.3"
   ]
  },
  {
   "cell_type": "markdown",
   "id": "0bdece85",
   "metadata": {},
   "source": [
    "### Q1. \n",
    "\n",
    "Escreva uma função em Python chamada ```contagem_caracteres``` que recebe uma string como parâmetro e retorna um dicionário onde as chaves são os caracteres presentes na string e os valores são a contagem de cada caractere.\n"
   ]
  },
  {
   "cell_type": "code",
   "execution_count": null,
   "id": "09a9845d",
   "metadata": {},
   "outputs": [],
   "source": [
    "# Implemente aqui a função contagem_caracteres\n",
    "\n",
    "def contagem_caracteres(texto):\n",
    "    contagem = {}\n",
    "    for caractere in texto:\n",
    "        if caractere in contagem:\n",
    "            contagem[caractere] += 1\n",
    "        else:\n",
    "            contagem[caractere] = 1\n",
    "    return contagem\n",
    "\n",
    "# Exemplo de uso\n",
    "frase = \"Python é incrível!\"\n",
    "resultado = contagem_caracteres(frase)\n",
    "print(resultado)"
   ]
  },
  {
   "cell_type": "code",
   "execution_count": null,
   "id": "0a258eba",
   "metadata": {},
   "outputs": [],
   "source": [
    "# Exemplo de uso:\n",
    "frase = \"python programming\"\n",
    "resultado = contagem_caracteres(frase)\n",
    "print(resultado)"
   ]
  },
  {
   "cell_type": "markdown",
   "id": "649a5082",
   "metadata": {},
   "source": [
    "### Q2. \n",
    "\n",
    "Baixe o arquivo contendo o roteiro do filme brasileiro \"Estômago\" e salve em seu computador com o nome \"estomago.txt\".\n",
    "\n",
    "https://aplauso.imprensaoficial.com.br/edicoes/12.0.813.502/12.0.813.502.txt\n",
    "\n",
    "- Escreva um script python que abre o arquivo de texto e cria um dicionário contando a quantidade de vezes que cada palavra aparece no texto.\n",
    "- Em seguida ordene o dicionário de forma decrescente pelos valores. Dessa maneira ele irá apresentar as palavras mais frequentes no início.\n",
    "- Apresente na tela o dicionário ordenado\n"
   ]
  },
  {
   "cell_type": "code",
   "execution_count": null,
   "id": "47cb0573",
   "metadata": {},
   "outputs": [],
   "source": [
    "# Implemente aqui sua solução\n",
    "\n",
    "import string\n",
    "\n",
    "def contar_palavras_arquivo(nome_arquivo):\n",
    "    # Abre e lê o conteúdo do arquivo\n",
    "    with open(nome_arquivo, 'r', encoding='utf-8') as f:\n",
    "        texto = f.read()\n",
    "\n",
    "    # Remove pontuação e transforma em minúsculas\n",
    "    texto_limpo = texto.translate(str.maketrans('', '', string.punctuation)).lower()\n",
    "\n",
    "    # Divide o texto em palavras\n",
    "    palavras = texto_limpo.split()\n",
    "\n",
    "    # Conta a frequência de cada palavra\n",
    "    contagem = {}\n",
    "    for palavra in palavras:\n",
    "        contagem[palavra] = contagem.get(palavra, 0) + 1\n",
    "\n",
    "    # Ordena o dicionário por valor (frequência) em ordem decrescente\n",
    "    contagem_ordenada = dict(sorted(contagem.items(), key=lambda item: item[1], reverse=True))\n",
    "\n",
    "    # Exibe o dicionário ordenado\n",
    "    for palavra, frequencia in contagem_ordenada.items():\n",
    "        print(f\"{palavra}: {frequencia}\")\n",
    "\n",
    "# Exemplo de uso\n",
    "contar_palavras_arquivo(\"estomago.txt\")"
   ]
  },
  {
   "cell_type": "markdown",
   "id": "bb62d219",
   "metadata": {},
   "source": [
    "### Q3. \n",
    "\n",
    "Crie uma função chamada ```mesclar_dicionarios``` que recebe dois dicionários como parâmetros e retorna um novo dicionário contendo a fusão dos dois. Se houver chaves comuns, o maior valor deve prevalecer."
   ]
  },
  {
   "cell_type": "code",
   "execution_count": null,
   "id": "f4363612",
   "metadata": {},
   "outputs": [],
   "source": [
    "# Implemente aqui a função mesclar_dicionarios\n",
    "\n",
    "def mesclar_dicionarios(dic1, dic2):\n",
    "    # Cria uma cópia do primeiro dicionário para não modificar o original\n",
    "    resultado = dic1.copy()\n",
    "\n",
    "    # Itera sobre o segundo dicionário\n",
    "    for chave, valor in dic2.items():\n",
    "        if chave in resultado:\n",
    "            # Se a chave já existe, mantém o maior valor\n",
    "            resultado[chave] = max(resultado[chave], valor)\n",
    "        else:\n",
    "            # Se a chave não existe, adiciona normalmente\n",
    "            resultado[chave] = valor\n",
    "\n",
    "    return resultado\n",
    "\n",
    "# Exemplo de uso\n",
    "d1 = {'a': 5, 'b': 3, 'c': 8}\n",
    "d2 = {'b': 7, 'c': 2, 'd': 4}\n",
    "\n",
    "mesclado = mesclar_dicionarios(d1, d2)\n",
    "print(mesclado)"
   ]
  },
  {
   "cell_type": "code",
   "execution_count": null,
   "id": "add41556",
   "metadata": {},
   "outputs": [],
   "source": [
    "# Exemplo de uso:\n",
    "dicionario1 = {'a': 1, 'b': 2, 'c': 3}\n",
    "dicionario2 = {'b': 4, 'd': 5}\n",
    "resultado = mesclar_dicionarios(dicionario1, dicionario2)\n",
    "print(resultado)\n",
    "# Saída esperada: {'a': 1, 'b': 4, 'c': 3, 'd': 5}"
   ]
  },
  {
   "cell_type": "markdown",
   "id": "8710b1a7",
   "metadata": {},
   "source": [
    "### Q4.\n",
    "\n",
    "Desenvolva uma função em Python chamada ```filtrar_dicionario``` que recebe um dicionário e uma lista de chaves como parâmetros e retorna um novo dicionário contendo apenas as chaves que estão presentes na lista."
   ]
  },
  {
   "cell_type": "code",
   "execution_count": null,
   "id": "0b7ee921",
   "metadata": {},
   "outputs": [],
   "source": [
    "# Implemente aqui a função filtrar_dicionario\n",
    "\n",
    "def filtrar_dicionario(dicionario, chaves_filtrar):\n",
    "    return {chave: dicionario[chave] for chave in chaves_filtrar if chave in dicionario}\n",
    "\n",
    "# Exemplo de uso\n",
    "dados = {\n",
    "    'nome': 'Carlos',\n",
    "    'idade': 28,\n",
    "    'cidade': 'São Paulo',\n",
    "    'profissão': 'Engenheiro'\n",
    "}\n",
    "\n",
    "chaves_desejadas = ['nome', 'cidade']\n",
    "\n",
    "resultado = filtrar_dicionario(dados, chaves_desejadas)\n",
    "print(resultado)"
   ]
  },
  {
   "cell_type": "code",
   "execution_count": null,
   "id": "ebc131f6",
   "metadata": {},
   "outputs": [],
   "source": [
    "# Exemplo de uso:\n",
    "dados = {'a': 1, 'b': 2, 'c': 3, 'd': 4, 'e': 5}\n",
    "chaves_filtradas = ['a', 'c', 'e']\n",
    "resultado = filtrar_dicionario(dados, chaves_filtradas)\n",
    "print(resultado)\n",
    "# Saída esperada: {'a': 1, 'c': 3, 'e': 5}"
   ]
  },
  {
   "cell_type": "markdown",
   "id": "3203c51e",
   "metadata": {},
   "source": [
    "### Q5.\n",
    "\n",
    "Você está responsável por analisar os resultados de uma votação. Cada voto é representado por um dicionário com o nome do candidato e a quantidade de votos que recebeu em uma determinada sessão eleitoral. Escreva uma função chamada ```resultado_votacao``` que recebe uma lista de dicionários de votos e retorna um dicionário onde as chaves são os nomes dos candidatos, e os valores são tuplas ```(total, percentual)``` com o total de votos recebidos por cada candidato e o percentual em relação à soma total de votos em todos os candidatos. "
   ]
  },
  {
   "cell_type": "code",
   "execution_count": null,
   "id": "2c856eee",
   "metadata": {},
   "outputs": [],
   "source": [
    "# Implemente aqui a função resultado_votacao\n",
    "\n",
    "def resultado_votacao(lista_de_votos):\n",
    "    # Dicionário para acumular os votos por candidato\n",
    "    total_por_candidato = {}\n",
    "\n",
    "    # Soma os votos por candidato\n",
    "    for sessao in lista_de_votos:\n",
    "        for candidato, votos in sessao.items():\n",
    "            total_por_candidato[candidato] = total_por_candidato.get(candidato, 0) + votos\n",
    "\n",
    "    # Calcula o total geral de votos\n",
    "    total_geral = sum(total_por_candidato.values())\n",
    "\n",
    "    # Cria o dicionário final com tuplas (total, percentual)\n",
    "    resultado = {}\n",
    "    for candidato, total in total_por_candidato.items():\n",
    "        percentual = (total / total_geral) * 100 if total_geral > 0 else 0\n",
    "        resultado[candidato] = (total, round(percentual, 2))\n",
    "\n",
    "    return resultado\n",
    "\n",
    "# Exemplo de uso\n",
    "votacao = [\n",
    "    {'Ana': 120, 'Bruno': 80},\n",
    "    {'Ana': 150, 'Carlos': 70},\n",
    "    {'Bruno': 100, 'Carlos': 130}\n",
    "]\n",
    "\n",
    "resultado = resultado_votacao(votacao)\n",
    "for candidato, (total, percentual) in resultado.items():\n",
    "    print(f\"{candidato}: {total} votos ({percentual}%)\")"
   ]
  },
  {
   "cell_type": "code",
   "execution_count": null,
   "id": "ff2044de",
   "metadata": {},
   "outputs": [],
   "source": [
    "# Exemplo de uso:\n",
    "votos = [\n",
    "    {'candidato_A': 120, 'candidato_B': 85, 'candidato_C': 90},\n",
    "    {'candidato_A': 110, 'candidato_B': 95, 'candidato_C': 80},\n",
    "    {'candidato_A': 130, 'candidato_B': 78, 'candidato_C': 105},\n",
    "]\n",
    "resultado = resultado_votacao(votos)\n",
    "print(resultado)  # Saída esperada: {'candidato_A': (360, 40.31), 'candidato_B': (258, 28.89), \n",
    "                                ###  'candidato_C': (275, 30.79)}"
   ]
  }
 ],
 "metadata": {
  "kernelspec": {
   "display_name": "Python 3 (ipykernel)",
   "language": "python",
   "name": "python3"
  },
  "language_info": {
   "codemirror_mode": {
    "name": "ipython",
    "version": 3
   },
   "file_extension": ".py",
   "mimetype": "text/x-python",
   "name": "python",
   "nbconvert_exporter": "python",
   "pygments_lexer": "ipython3",
   "version": "3.13.2"
  }
 },
 "nbformat": 4,
 "nbformat_minor": 5
}
